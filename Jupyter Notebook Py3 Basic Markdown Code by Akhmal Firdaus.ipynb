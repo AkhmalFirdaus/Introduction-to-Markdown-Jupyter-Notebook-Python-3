{
 "cells": [
  {
   "cell_type": "markdown",
   "id": "a74fc7a8",
   "metadata": {},
   "source": [
    "*Prepared by: Mohamad Akhmal Firdaus Bin Md Osman Ani* <br>\n",
    "*Training: BAC Data Science & Analytics Professional, Module 2: Assignment*"
   ]
  },
  {
   "cell_type": "markdown",
   "id": "374b0a05-b694-4f7a-803d-8fdbf3c5103a",
   "metadata": {},
   "source": [
    "# Assignment Data Science Tools"
   ]
  },
  {
   "cell_type": "markdown",
   "id": "1d55f84d-e444-4fc5-88db-25add41337d1",
   "metadata": {},
   "source": [
    "## __Mohamad Akhmal Firdaus Bin Md Osman Ani__\n",
    "### Data Scientist/ Artificial Intelligence Engineer"
   ]
  },
  {
   "cell_type": "markdown",
   "id": "7e86efc0-9d4f-4eb0-a28d-77b256fc3883",
   "metadata": {},
   "source": [
    "*Why you are interested in Data Science?*\n",
    "*I'm interested in analyzing and finding insights of data for digital applications. These help me to practice my critical and problem solving skills, with creative understandings.*"
   ]
  },
  {
   "cell_type": "markdown",
   "id": "d3ad4285-3bd3-4051-b1e8-d8a4e26bfed8",
   "metadata": {},
   "source": [
    "### Cell 5 is about finding the value of z"
   ]
  },
  {
   "cell_type": "code",
   "execution_count": 1,
   "id": "5ba6ec19-fa2a-4c03-917f-0a5d4ca4a13d",
   "metadata": {},
   "outputs": [
    {
     "name": "stdout",
     "output_type": "stream",
     "text": [
      "80\n"
     ]
    }
   ],
   "source": [
    "x = 8\n",
    "y = 10\n",
    "z = x*y\n",
    "print(z)"
   ]
  },
  {
   "cell_type": "markdown",
   "id": "eb6b675c-c794-48c6-b9c1-24ead6282316",
   "metadata": {},
   "source": [
    "__This cell includes:__\n",
    "- code/syntax highlighting\n",
    "- horizontal rule \n",
    "- bulleted, numbered list\n",
    "- blocked quotes\n",
    "- images\n",
    "- tables\n",
    "- hyperlink\n",
    "- ~striketrough~\n",
    "___\n",
    "1. > White-gold cresent during Ramadan. (Blocked Quotes Example)\n",
    "\n",
    "2. ![](https://image.shutterstock.com/image-photo/yellowish-moon-crescent-dark-night-600w-1491282455.jpg)\n",
    "\n",
    "3. | Stretch/Untouched | ProbDistribution | Accuracy |\n",
    "| :- | -: | :-: |\n",
    "| Stretched | Gaussian | .843\n",
    "\n",
    "4. [Add me on my LinkedIn here.](https://my.linkedin.com/in/akhmalfirdaus) \n",
    "\n"
   ]
  },
  {
   "cell_type": "code",
   "execution_count": 2,
   "id": "5aa34abf-c145-42ae-96b6-324583409bd8",
   "metadata": {},
   "outputs": [
    {
     "data": {
      "text/html": [
       "<div>\n",
       "<style scoped>\n",
       "    .dataframe tbody tr th:only-of-type {\n",
       "        vertical-align: middle;\n",
       "    }\n",
       "\n",
       "    .dataframe tbody tr th {\n",
       "        vertical-align: top;\n",
       "    }\n",
       "\n",
       "    .dataframe thead th {\n",
       "        text-align: right;\n",
       "    }\n",
       "</style>\n",
       "<table border=\"1\" class=\"dataframe\">\n",
       "  <thead>\n",
       "    <tr style=\"text-align: right;\">\n",
       "      <th></th>\n",
       "      <th>Pregnancies</th>\n",
       "      <th>Glucose</th>\n",
       "      <th>BloodPressure</th>\n",
       "      <th>SkinThickness</th>\n",
       "      <th>Insulin</th>\n",
       "      <th>BMI</th>\n",
       "      <th>DiabetesPedigreeFunction</th>\n",
       "      <th>Age</th>\n",
       "      <th>Outcome</th>\n",
       "    </tr>\n",
       "  </thead>\n",
       "  <tbody>\n",
       "    <tr>\n",
       "      <th>0</th>\n",
       "      <td>6</td>\n",
       "      <td>148</td>\n",
       "      <td>72</td>\n",
       "      <td>35</td>\n",
       "      <td>0</td>\n",
       "      <td>33.6</td>\n",
       "      <td>0.627</td>\n",
       "      <td>50</td>\n",
       "      <td>1</td>\n",
       "    </tr>\n",
       "    <tr>\n",
       "      <th>1</th>\n",
       "      <td>1</td>\n",
       "      <td>85</td>\n",
       "      <td>66</td>\n",
       "      <td>29</td>\n",
       "      <td>0</td>\n",
       "      <td>26.6</td>\n",
       "      <td>0.351</td>\n",
       "      <td>31</td>\n",
       "      <td>0</td>\n",
       "    </tr>\n",
       "    <tr>\n",
       "      <th>2</th>\n",
       "      <td>8</td>\n",
       "      <td>183</td>\n",
       "      <td>64</td>\n",
       "      <td>0</td>\n",
       "      <td>0</td>\n",
       "      <td>23.3</td>\n",
       "      <td>0.672</td>\n",
       "      <td>32</td>\n",
       "      <td>1</td>\n",
       "    </tr>\n",
       "    <tr>\n",
       "      <th>3</th>\n",
       "      <td>1</td>\n",
       "      <td>89</td>\n",
       "      <td>66</td>\n",
       "      <td>23</td>\n",
       "      <td>94</td>\n",
       "      <td>28.1</td>\n",
       "      <td>0.167</td>\n",
       "      <td>21</td>\n",
       "      <td>0</td>\n",
       "    </tr>\n",
       "    <tr>\n",
       "      <th>4</th>\n",
       "      <td>0</td>\n",
       "      <td>137</td>\n",
       "      <td>40</td>\n",
       "      <td>35</td>\n",
       "      <td>168</td>\n",
       "      <td>43.1</td>\n",
       "      <td>2.288</td>\n",
       "      <td>33</td>\n",
       "      <td>1</td>\n",
       "    </tr>\n",
       "  </tbody>\n",
       "</table>\n",
       "</div>"
      ],
      "text/plain": [
       "   Pregnancies  Glucose  BloodPressure  SkinThickness  Insulin   BMI  \\\n",
       "0            6      148             72             35        0  33.6   \n",
       "1            1       85             66             29        0  26.6   \n",
       "2            8      183             64              0        0  23.3   \n",
       "3            1       89             66             23       94  28.1   \n",
       "4            0      137             40             35      168  43.1   \n",
       "\n",
       "   DiabetesPedigreeFunction  Age  Outcome  \n",
       "0                     0.627   50        1  \n",
       "1                     0.351   31        0  \n",
       "2                     0.672   32        1  \n",
       "3                     0.167   21        0  \n",
       "4                     2.288   33        1  "
      ]
     },
     "execution_count": 2,
     "metadata": {},
     "output_type": "execute_result"
    }
   ],
   "source": [
    "import pandas as pd\n",
    "df = pd.read_csv(\"diabetes.csv\")\n",
    "df.head()"
   ]
  }
 ],
 "metadata": {
  "kernelspec": {
   "display_name": "Python 3",
   "language": "python",
   "name": "python3"
  },
  "language_info": {
   "codemirror_mode": {
    "name": "ipython",
    "version": 3
   },
   "file_extension": ".py",
   "mimetype": "text/x-python",
   "name": "python",
   "nbconvert_exporter": "python",
   "pygments_lexer": "ipython3",
   "version": "3.8.8"
  }
 },
 "nbformat": 4,
 "nbformat_minor": 5
}
